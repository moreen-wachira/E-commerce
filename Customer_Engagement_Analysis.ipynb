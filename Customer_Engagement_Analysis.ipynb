{
 "cells": [
  {
   "cell_type": "markdown",
   "id": "5c6a439d",
   "metadata": {},
   "source": [
    "# Customer Engagement Analysis using E-commerce Dataset\n",
    "This notebook performs data cleaning, exploratory data analysis, feature engineering, and predictive modeling on an e-commerce dataset."
   ]
  },
  {
   "cell_type": "code",
   "execution_count": null,
   "id": "265937af",
   "metadata": {},
   "outputs": [],
   "source": [
    "# Step 1: Import Libraries\n",
    "import pandas as pd\n",
    "import numpy as np\n",
    "import matplotlib.pyplot as plt\n",
    "import seaborn as sns\n",
    "from sklearn.model_selection import train_test_split\n",
    "from sklearn.ensemble import RandomForestClassifier\n",
    "from sklearn.preprocessing import MinMaxScaler\n",
    "from sklearn.metrics import classification_report, accuracy_score"
   ]
  },
  {
   "cell_type": "markdown",
   "id": "fecd7279",
   "metadata": {},
   "source": [
    "## Step 2: Load Dataset"
   ]
  },
  {
   "cell_type": "code",
   "execution_count": null,
   "id": "10a87cf1",
   "metadata": {},
   "outputs": [],
   "source": [
    "# Step 2: Load Dataset\n",
    "data = pd.read_csv('ecommerce_customer_data.csv')\n",
    "print(\"Dataset Preview:\")\n",
    "print(data.head())"
   ]
  },
  {
   "cell_type": "markdown",
   "id": "421ee37c",
   "metadata": {},
   "source": [
    "## Step 3: Data Cleaning"
   ]
  },
  {
   "cell_type": "code",
   "execution_count": 1,
   "id": "82a5e4b1",
   "metadata": {},
   "outputs": [
    {
     "ename": "NameError",
     "evalue": "name 'data' is not defined",
     "output_type": "error",
     "traceback": [
      "\u001b[0;31m---------------------------------------------------------------------------\u001b[0m",
      "\u001b[0;31mNameError\u001b[0m                                 Traceback (most recent call last)",
      "Cell \u001b[0;32mIn[1], line 3\u001b[0m\n\u001b[1;32m      1\u001b[0m \u001b[38;5;66;03m# Step 3: Data Cleaning\u001b[39;00m\n\u001b[1;32m      2\u001b[0m \u001b[38;5;66;03m# Drop irrelevant columns\u001b[39;00m\n\u001b[0;32m----> 3\u001b[0m data \u001b[38;5;241m=\u001b[39m \u001b[43mdata\u001b[49m\u001b[38;5;241m.\u001b[39mdrop([\u001b[38;5;124m'\u001b[39m\u001b[38;5;124mCustomerID\u001b[39m\u001b[38;5;124m'\u001b[39m, \u001b[38;5;124m'\u001b[39m\u001b[38;5;124mProductID\u001b[39m\u001b[38;5;124m'\u001b[39m], axis\u001b[38;5;241m=\u001b[39m\u001b[38;5;241m1\u001b[39m, errors\u001b[38;5;241m=\u001b[39m\u001b[38;5;124m'\u001b[39m\u001b[38;5;124mignore\u001b[39m\u001b[38;5;124m'\u001b[39m)\n\u001b[1;32m      5\u001b[0m \u001b[38;5;66;03m# Handle missing values\u001b[39;00m\n\u001b[1;32m      6\u001b[0m numeric_data \u001b[38;5;241m=\u001b[39m data\u001b[38;5;241m.\u001b[39mselect_dtypes(include\u001b[38;5;241m=\u001b[39m[np\u001b[38;5;241m.\u001b[39mnumber])  \u001b[38;5;66;03m# Select numeric columns\u001b[39;00m\n",
      "\u001b[0;31mNameError\u001b[0m: name 'data' is not defined"
     ]
    }
   ],
   "source": [
    "# Step 3: Data Cleaning\n",
    "# Drop irrelevant columns\n",
    "data = data.drop(['CustomerID', 'ProductID'], axis=1, errors='ignore')\n",
    "\n",
    "# Handle missing values\n",
    "numeric_data = data.select_dtypes(include=[np.number])  # Select numeric columns\n",
    "data[numeric_data.columns] = numeric_data.fillna(numeric_data.median())\n",
    "\n",
    "# Fill missing values in categorical columns\n",
    "data['Gender'].fillna(data['Gender'].mode()[0], inplace=True)\n",
    "data['Product Category'].fillna(data['Product Category'].mode()[0], inplace=True)\n",
    "\n",
    "# Drop rows with missing 'Purchase Date'\n",
    "data.dropna(subset=['Purchase Date'], inplace=True)\n",
    "\n",
    "print(\"Data Cleaning Completed!\")"
   ]
  },
  {
   "cell_type": "markdown",
   "id": "a7be16dc",
   "metadata": {},
   "source": [
    "## Step 4: Exploratory Data Analysis"
   ]
  },
  {
   "cell_type": "code",
   "execution_count": 2,
   "id": "ab8a2424",
   "metadata": {},
   "outputs": [
    {
     "ename": "NameError",
     "evalue": "name 'plt' is not defined",
     "output_type": "error",
     "traceback": [
      "\u001b[0;31m---------------------------------------------------------------------------\u001b[0m",
      "\u001b[0;31mNameError\u001b[0m                                 Traceback (most recent call last)",
      "Cell \u001b[0;32mIn[2], line 2\u001b[0m\n\u001b[1;32m      1\u001b[0m \u001b[38;5;66;03m# Step 4: Exploratory Data Analysis\u001b[39;00m\n\u001b[0;32m----> 2\u001b[0m \u001b[43mplt\u001b[49m\u001b[38;5;241m.\u001b[39mfigure(figsize\u001b[38;5;241m=\u001b[39m(\u001b[38;5;241m10\u001b[39m, \u001b[38;5;241m8\u001b[39m))\n\u001b[1;32m      3\u001b[0m sns\u001b[38;5;241m.\u001b[39mheatmap(data\u001b[38;5;241m.\u001b[39mselect_dtypes(include\u001b[38;5;241m=\u001b[39m[np\u001b[38;5;241m.\u001b[39mnumber])\u001b[38;5;241m.\u001b[39mcorr(), annot\u001b[38;5;241m=\u001b[39m\u001b[38;5;28;01mTrue\u001b[39;00m, cmap\u001b[38;5;241m=\u001b[39m\u001b[38;5;124m'\u001b[39m\u001b[38;5;124mcoolwarm\u001b[39m\u001b[38;5;124m'\u001b[39m)\n\u001b[1;32m      4\u001b[0m plt\u001b[38;5;241m.\u001b[39mtitle(\u001b[38;5;124m'\u001b[39m\u001b[38;5;124mCorrelation Heatmap\u001b[39m\u001b[38;5;124m'\u001b[39m)\n",
      "\u001b[0;31mNameError\u001b[0m: name 'plt' is not defined"
     ]
    }
   ],
   "source": [
    "# Step 4: Exploratory Data Analysis\n",
    "plt.figure(figsize=(10, 8))\n",
    "sns.heatmap(data.select_dtypes(include=[np.number]).corr(), annot=True, cmap='coolwarm')\n",
    "plt.title('Correlation Heatmap')\n",
    "plt.show()\n",
    "\n",
    "sns.histplot(data['Quantity'], bins=30, kde=True)\n",
    "plt.title('Quantity Distribution (Proxy for Engagement)')\n",
    "plt.xlabel('Quantity')\n",
    "plt.show()"
   ]
  },
  {
   "cell_type": "markdown",
   "id": "f9cce24c",
   "metadata": {},
   "source": [
    "## Step 5: Feature Engineering"
   ]
  },
  {
   "cell_type": "code",
   "execution_count": 3,
   "id": "4a6b08c6",
   "metadata": {},
   "outputs": [
    {
     "ename": "NameError",
     "evalue": "name 'data' is not defined",
     "output_type": "error",
     "traceback": [
      "\u001b[0;31m---------------------------------------------------------------------------\u001b[0m",
      "\u001b[0;31mNameError\u001b[0m                                 Traceback (most recent call last)",
      "Cell \u001b[0;32mIn[3], line 2\u001b[0m\n\u001b[1;32m      1\u001b[0m \u001b[38;5;66;03m# Step 5: Feature Engineering\u001b[39;00m\n\u001b[0;32m----> 2\u001b[0m data[\u001b[38;5;124m'\u001b[39m\u001b[38;5;124mEngagementScore\u001b[39m\u001b[38;5;124m'\u001b[39m] \u001b[38;5;241m=\u001b[39m \u001b[43mdata\u001b[49m[\u001b[38;5;124m'\u001b[39m\u001b[38;5;124mQuantity\u001b[39m\u001b[38;5;124m'\u001b[39m] \u001b[38;5;241m*\u001b[39m data[\u001b[38;5;124m'\u001b[39m\u001b[38;5;124mProduct Price\u001b[39m\u001b[38;5;124m'\u001b[39m]\n\u001b[1;32m      3\u001b[0m data[\u001b[38;5;124m'\u001b[39m\u001b[38;5;124mHighEngagement\u001b[39m\u001b[38;5;124m'\u001b[39m] \u001b[38;5;241m=\u001b[39m (data[\u001b[38;5;124m'\u001b[39m\u001b[38;5;124mEngagementScore\u001b[39m\u001b[38;5;124m'\u001b[39m] \u001b[38;5;241m>\u001b[39m data[\u001b[38;5;124m'\u001b[39m\u001b[38;5;124mEngagementScore\u001b[39m\u001b[38;5;124m'\u001b[39m]\u001b[38;5;241m.\u001b[39mmedian())\u001b[38;5;241m.\u001b[39mastype(\u001b[38;5;28mint\u001b[39m)\n\u001b[1;32m      5\u001b[0m data[\u001b[38;5;124m'\u001b[39m\u001b[38;5;124mPurchaseDate\u001b[39m\u001b[38;5;124m'\u001b[39m] \u001b[38;5;241m=\u001b[39m pd\u001b[38;5;241m.\u001b[39mto_datetime(data[\u001b[38;5;124m'\u001b[39m\u001b[38;5;124mPurchase Date\u001b[39m\u001b[38;5;124m'\u001b[39m])\n",
      "\u001b[0;31mNameError\u001b[0m: name 'data' is not defined"
     ]
    }
   ],
   "source": [
    "# Step 5: Feature Engineering\n",
    "data['EngagementScore'] = data['Quantity'] * data['Product Price']\n",
    "data['HighEngagement'] = (data['EngagementScore'] > data['EngagementScore'].median()).astype(int)\n",
    "\n",
    "data['PurchaseDate'] = pd.to_datetime(data['Purchase Date'])\n",
    "data['DaysSinceLastPurchase'] = (data['PurchaseDate'].max() - data['PurchaseDate']).dt.days\n",
    "\n",
    "X = data.drop(['HighEngagement', 'EngagementScore', 'Purchase Date'], axis=1)\n",
    "y = data['HighEngagement']\n",
    "scaler = MinMaxScaler()\n",
    "X = pd.DataFrame(scaler.fit_transform(X.select_dtypes(include=[np.number])), columns=X.select_dtypes(include=[np.number]).columns)"
   ]
  },
  {
   "cell_type": "markdown",
   "id": "9047e7ff",
   "metadata": {},
   "source": [
    "## Step 6: Split Data"
   ]
  },
  {
   "cell_type": "code",
   "execution_count": null,
   "id": "0429c891",
   "metadata": {},
   "outputs": [],
   "source": [
    "# Step 6: Split Data\n",
    "X_train, X_test, y_train, y_test = train_test_split(X, y, test_size=0.2, random_state=42)"
   ]
  },
  {
   "cell_type": "markdown",
   "id": "3eab4e71",
   "metadata": {},
   "source": [
    "## Step 7: Random Forest Classifier"
   ]
  },
  {
   "cell_type": "code",
   "execution_count": null,
   "id": "6c4cb3b5",
   "metadata": {},
   "outputs": [],
   "source": [
    "# Step 7: Random Forest Classifier\n",
    "rf_model = RandomForestClassifier(random_state=42)\n",
    "rf_model.fit(X_train, y_train)\n",
    "y_pred_rf = rf_model.predict(X_test)\n",
    "\n",
    "print(\"\\nRandom Forest Classification Report:\")\n",
    "print(classification_report(y_test, y_pred_rf))\n",
    "print(\"Accuracy:\", accuracy_score(y_test, y_pred_rf))\n",
    "\n",
    "importance_rf = pd.DataFrame({'Feature': X.columns, 'Importance': rf_model.feature_importances_})\n",
    "importance_rf = importance_rf.sort_values(by='Importance', ascending=False)\n",
    "\n",
    "sns.barplot(x='Importance', y='Feature', data=importance_rf)\n",
    "plt.title('Feature Importance')\n",
    "plt.show()"
   ]
  },
  {
   "cell_type": "markdown",
   "id": "aa77743c",
   "metadata": {},
   "source": [
    "## Step 8: Save Results"
   ]
  },
  {
   "cell_type": "code",
   "execution_count": null,
   "id": "2c3ff518",
   "metadata": {},
   "outputs": [],
   "source": [
    "# Step 8: Save Results\n",
    "data.to_csv('processed_ecommerce_data.csv', index=False)\n",
    "with open('rf_model_summary.txt', 'w') as f:\n",
    "    f.write(\"Random Forest Accuracy: {:.2f}\\n\".format(accuracy_score(y_test, y_pred_rf)))\n",
    "    f.write(\"\\nFeature Importances:\\n\")\n",
    "    f.write(importance_rf.to_string(index=False))\n",
    "\n",
    "print(\"\\nAnalysis Complete! Results saved to disk.\")"
   ]
  },
  {
   "cell_type": "markdown",
   "id": "f91faf7b",
   "metadata": {},
   "source": [
    "### Additional Data Exploration"
   ]
  },
  {
   "cell_type": "code",
   "execution_count": null,
   "id": "0e88a249",
   "metadata": {},
   "outputs": [],
   "source": [
    "# Step 4: Additional Exploratory Data Analysis\n",
    "\n",
    "# Distribution of numerical features\n",
    "numeric_cols = data.select_dtypes(include=[np.number]).columns\n",
    "data[numeric_cols].hist(figsize=(12, 10), bins=20)\n",
    "plt.suptitle('Histograms of Numeric Features', fontsize=16)\n",
    "plt.show()\n",
    "\n",
    "# Count plots for categorical features\n",
    "categorical_cols = data.select_dtypes(include=['object']).columns\n",
    "for col in categorical_cols:\n",
    "    plt.figure(figsize=(8, 4))\n",
    "    sns.countplot(data=data, x=col, order=data[col].value_counts().index)\n",
    "    plt.title(f'Distribution of {col}')\n",
    "    plt.xticks(rotation=45)\n",
    "    plt.show()\n"
   ]
  },
  {
   "cell_type": "markdown",
   "id": "7b3fd20c",
   "metadata": {},
   "source": [
    "### Model Development and Insights"
   ]
  },
  {
   "cell_type": "code",
   "execution_count": null,
   "id": "d84f6de2",
   "metadata": {},
   "outputs": [],
   "source": [
    "# Step 7: Model Insights\n",
    "\n",
    "# Confusion Matrix\n",
    "from sklearn.metrics import confusion_matrix, ConfusionMatrixDisplay\n",
    "cm = confusion_matrix(y_test, y_pred_rf)\n",
    "disp = ConfusionMatrixDisplay(confusion_matrix=cm, display_labels=['Low Engagement', 'High Engagement'])\n",
    "disp.plot(cmap='Blues', values_format='d')\n",
    "plt.title('Confusion Matrix')\n",
    "plt.show()\n",
    "\n",
    "# Insights based on Feature Importance\n",
    "print(\"Top Features Contributing to Engagement:\")\n",
    "print(importance_rf.head(5))"
   ]
  }
 ],
 "metadata": {
  "kernelspec": {
   "display_name": "Python 3 (ipykernel)",
   "language": "python",
   "name": "python3"
  },
  "language_info": {
   "codemirror_mode": {
    "name": "ipython",
    "version": 3
   },
   "file_extension": ".py",
   "mimetype": "text/x-python",
   "name": "python",
   "nbconvert_exporter": "python",
   "pygments_lexer": "ipython3",
   "version": "3.8.13"
  }
 },
 "nbformat": 4,
 "nbformat_minor": 5
}
